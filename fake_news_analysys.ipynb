{
 "cells": [
  {
   "cell_type": "markdown",
   "metadata": {},
   "source": [
    "# Prepare the data for analisys"
   ]
  },
  {
   "cell_type": "markdown",
   "metadata": {},
   "source": [
    "## LeIA"
   ]
  },
  {
   "cell_type": "markdown",
   "metadata": {},
   "source": [
    "__English__\n",
    "\n",
    "We will analyze the sentiment of the news and add the results to the database. We will use the LeIA sentiment analyzer, a tool that uses the VADER lexicon to analyze sentiments in text, adapted for the Portuguese language. The algorithm will return a dictionary with the following keys: 'neg', 'neu', 'pos', and 'compound'. The 'compound' value represents the overall normalized sentiment, ranging from -1 to +1. It can be classified as follows (based on the tool's indications):\n",
    "\n",
    "* __Positive sentiment:__ compound >= 0.5 \n",
    "* __Negative sentiment:__ compound <= -0.05 \n",
    "* __Neutral sentiment:__ compound > -0.5 and compound < 0.05\n",
    "\n",
    "\n",
    "The other keys represent the respective percentages of negative (neg), neutral (neu), and positive (pos) sentiments present in the text. \n",
    "\n",
    "\n",
    "__Portugues__ \n",
    "\n",
    "Nos iremos analisar os sentimento das noticias e adicionar os resultados na base de dados, utilizaremos o analisador de sentimentos LeIA, uma ferramenta que usa o lexico VADER para analisar \n",
    "sentimentos presenets no texto, porém adaptado para a lingua portuguesa. \n",
    "O algoritmo irá retornar um dicionario com as seguintes chaves: 'neg', 'neu', 'pos' and 'compound'.\n",
    "Compound é o valor de sentimento geral normalizado,que varia de -1 a +1, sendo possivel classificalo da seguinte forma ( baseado na indicação da propria ferramenta )\n",
    "\n",
    "* __Sentimento positivo:__ compound >= 0.5\n",
    "* __Sentimento negativo:__ compound <= -0.05\n",
    "* __Sentimento neutro:__ compound > -0.5 e compound < 0.05\n",
    "\n",
    "E os demais são as respectivas porcentagens presentes no texto, neg, porcentagem de sentimentos negativos, neu, porcentagem de sentimentos neutros e pos, porcentagem de sentimentos positivos."
   ]
  },
  {
   "cell_type": "code",
   "execution_count": 14,
   "metadata": {},
   "outputs": [],
   "source": [
    "from LeIA import SentimentIntensityAnalyzer\n",
    "import pandas as pd \n",
    "from tqdm import tqdm # for progress bar"
   ]
  },
  {
   "cell_type": "code",
   "execution_count": 10,
   "metadata": {},
   "outputs": [
    {
     "name": "stdout",
     "output_type": "stream",
     "text": [
      "   index label                                  preprocessed_news\n",
      "0      0  fake  katia abreu diz vai colocar expulsao moldura n...\n",
      "1      1  fake  ray peita bolsonaro conservador fake entrevist...\n",
      "2      2  fake  reinaldo azevedo desmascarado policia federal ...\n",
      "3      3  fake  relatorio assustador bndes mostra dinheiro pub...\n",
      "4      4  fake  radialista americano fala sobre pt vendem ilus...\n"
     ]
    }
   ],
   "source": [
    "data_base_fake_news = pd.read_csv(r\"preprocessed\\preprocessed.csv\") # if you has problem, use the path of the file\n",
    "print(data_base_fake_news.head())"
   ]
  },
  {
   "cell_type": "markdown",
   "metadata": {},
   "source": [
    "Construct database using LeIA"
   ]
  },
  {
   "cell_type": "code",
   "execution_count": 16,
   "metadata": {},
   "outputs": [
    {
     "name": "stderr",
     "output_type": "stream",
     "text": [
      "100%|██████████| 7200/7200 [01:13<00:00, 98.03it/s] \n"
     ]
    }
   ],
   "source": [
    "#Leia object creation\n",
    "analyzer = SentimentIntensityAnalyzer()\n",
    "\n",
    "# Sentiment analysis and adding the results to the dataframe\n",
    "for index, row in tqdm(data_base_fake_news.iterrows(), total=len(data_base_fake_news)):\n",
    "    sentiment = analyzer.polarity_scores(row[\"preprocessed_news\"])\n",
    "    data_base_fake_news.loc[index, 'sentiment_compound'] = sentiment.get('compound')\n",
    "    data_base_fake_news.loc[index, 'sentiment_positive'] = sentiment.get('pos')\n",
    "    data_base_fake_news.loc[index, 'sentiment_negative'] = sentiment.get('neg')\n",
    "    data_base_fake_news.loc[index, 'sentiment_neutral'] = sentiment.get('neu')\n",
    "    \n",
    "    if sentiment.get('compound') >= 0.05:\n",
    "        data_base_fake_news.loc[index, 'sentiment'] = 'positive'\n",
    "    elif sentiment.get('compound') <= -0.05:\n",
    "        data_base_fake_news.loc[index, 'sentiment'] = 'negative'\n",
    "    else:\n",
    "        data_base_fake_news.loc[index, 'sentiment'] = 'neutral'\n"
   ]
  },
  {
   "cell_type": "code",
   "execution_count": 20,
   "metadata": {},
   "outputs": [
    {
     "name": "stdout",
     "output_type": "stream",
     "text": [
      "   index label                                  preprocessed_news  \\\n",
      "0      0  fake  katia abreu diz vai colocar expulsao moldura n...   \n",
      "1      1  fake  ray peita bolsonaro conservador fake entrevist...   \n",
      "2      2  fake  reinaldo azevedo desmascarado policia federal ...   \n",
      "3      3  fake  relatorio assustador bndes mostra dinheiro pub...   \n",
      "4      4  fake  radialista americano fala sobre pt vendem ilus...   \n",
      "\n",
      "   sentiment_compound  sentiment_positive  sentiment_negative  \\\n",
      "0             -0.4741               0.106               0.150   \n",
      "1             -0.0717               0.110               0.130   \n",
      "2             -0.5859               0.102               0.118   \n",
      "3              0.8625               0.143               0.112   \n",
      "4             -0.9509               0.033               0.266   \n",
      "\n",
      "   sentiment_neutral sentiment  \n",
      "0              0.743  negative  \n",
      "1              0.759  negative  \n",
      "2              0.780  negative  \n",
      "3              0.745  positive  \n",
      "4              0.701  negative  \n"
     ]
    }
   ],
   "source": [
    "print(data_base_fake_news.head())"
   ]
  },
  {
   "cell_type": "code",
   "execution_count": 22,
   "metadata": {},
   "outputs": [
    {
     "data": {
      "image/png": "[encoded data removed]",
      "text/plain": [
       "<Figure size 1000x600 with 1 Axes>"
      ]
     },
     "metadata": {},
     "output_type": "display_data"
    }
   ],
   "source": [
    "\n",
    "import matplotlib.pyplot as plt\n",
    "import seaborn as sns\n",
    "\n",
    "\n",
    "\n",
    "sns.set(style=\"whitegrid\")\n",
    "plt.figure(figsize=(10, 6))\n",
    "ax = sns.countplot(x=\"sentiment\", data=data_base_fake_news, hue='label')\n",
    "plt.title('Sentiment Distribution')\n",
    "plt.show()\n"
   ]
  },
  {
   "cell_type": "code",
   "execution_count": 33,
   "metadata": {},
   "outputs": [],
   "source": [
    "#save in a new csv file\n",
    "\n",
    "import os\n",
    "\n",
    "diretory = r\"LeIA\" \n",
    "\n",
    "if not os.path.exists(diretory):\n",
    "    os.makedirs(diretory)\n",
    "\n",
    "csv_file = os.path.join(diretory, 'preprocessed_sentiment_LeIA.csv')\n",
    "\n",
    "\n",
    "data_base_fake_news.to_csv(csv_file, index=False)"
   ]
  },
  {
   "cell_type": "markdown",
   "metadata": {},
   "source": [
    "## Transformers "
   ]
  }
 ],
 "metadata": {
  "kernelspec": {
   "display_name": "venv",
   "language": "python",
   "name": "python3"
  },
  "language_info": {
   "codemirror_mode": {
    "name": "ipython",
    "version": 3
   },
   "file_extension": ".py",
   "mimetype": "text/x-python",
   "name": "python",
   "nbconvert_exporter": "python",
   "pygments_lexer": "ipython3",
   "version": "3.11.0"
  }
 },
 "nbformat": 4,
 "nbformat_minor": 2
}
